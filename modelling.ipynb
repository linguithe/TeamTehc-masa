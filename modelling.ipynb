{
 "cells": [
  {
   "cell_type": "markdown",
   "metadata": {},
   "source": [
    "# Imports"
   ]
  },
  {
   "cell_type": "code",
   "execution_count": 5,
   "metadata": {},
   "outputs": [],
   "source": [
    "from random import randint\n",
    "import pandas as pd\n",
    "from sklearn.preprocessing import OneHotEncoder\n",
    "from sklearn.preprocessing import LabelEncoder\n",
    "from sklearn.model_selection import train_test_split\n",
    "from sklearn.metrics import accuracy_score\n",
    "\n",
    "from sklearn.tree import DecisionTreeClassifier\n",
    "\n",
    "from sklearn.model_selection import RandomizedSearchCV\n",
    "from sklearn.model_selection import GridSearchCV"
   ]
  },
  {
   "cell_type": "markdown",
   "metadata": {},
   "source": [
    "# Data preparation\n",
    "First we have to import the data, clean the imported data and prepare the data for the model, as shown below."
   ]
  },
  {
   "cell_type": "code",
   "execution_count": 6,
   "metadata": {},
   "outputs": [],
   "source": [
    "#Importing dataset, cleaning data and preparing data.\n",
    "df = pd.read_excel(\"C:\\\\Users\\\\notth\\\\Documents\\\\MASA Hackathon\\Documentation & Materials\\\\TravelDataset.xlsx\")\n",
    "df = df.drop(df[(df[\"Net Sales\"] < 0) | (df[\"Duration\"] < 0)].index)\n",
    "df = df.drop(columns=[\"Gender\", \"Net Sales\", \"Commision (in value)\"])\n",
    "\n",
    "X = df.drop(columns=[\"Claim\"])\n",
    "y = df[\"Claim\"]\n",
    "X_train, X_test, y_train, y_test = train_test_split(X, y, test_size=0.2)\n",
    "\n",
    "enc = OneHotEncoder(handle_unknown=\"ignore\")\n",
    "X_train = enc.fit_transform(X_train)\n",
    "X_test = enc.transform(X_test)\n",
    "\n",
    "le = LabelEncoder()\n",
    "y_train = le.fit_transform(y_train)\n",
    "y_test = le.transform(y_test)"
   ]
  },
  {
   "cell_type": "markdown",
   "metadata": {},
   "source": [
    "# Model training\n",
    "Next, we need to train the model, using the code shown below."
   ]
  },
  {
   "cell_type": "code",
   "execution_count": 25,
   "metadata": {},
   "outputs": [
    {
     "name": "stdout",
     "output_type": "stream",
     "text": [
      "0.9788490701572352\n"
     ]
    }
   ],
   "source": [
    "#Decision tree.\n",
    "dtc = DecisionTreeClassifier()\n",
    "dtc.fit(X_train, y_train)\n",
    "predict = dtc.predict(X_test)\n",
    "accuracy = accuracy_score(y_test, predict)\n",
    "print(accuracy)"
   ]
  },
  {
   "cell_type": "markdown",
   "metadata": {},
   "source": [
    "# Hyperparameter tuning"
   ]
  },
  {
   "cell_type": "code",
   "execution_count": 8,
   "metadata": {},
   "outputs": [
    {
     "name": "stderr",
     "output_type": "stream",
     "text": [
      "c:\\Users\\notth\\AppData\\Local\\Programs\\Python\\Python39\\lib\\site-packages\\sklearn\\model_selection\\_search.py:306: UserWarning: The total space of parameters 4 is smaller than n_iter=10. Running 4 iterations. For exhaustive searches, use GridSearchCV.\n",
      "  warnings.warn(\n"
     ]
    },
    {
     "name": "stdout",
     "output_type": "stream",
     "text": [
      "{'min_samples_leaf': 5, 'max_features': 5, 'max_depth': 3, 'criterion': 'gini'} 0.9853134856284349\n",
      "Fitting 5 folds for each of 30 candidates, totalling 150 fits\n",
      "{'ccp_alpha': 0.1, 'criterion': 'gini', 'max_depth': 5} 0.9853134856284349\n"
     ]
    }
   ],
   "source": [
    "#Tuning using randomized search.\n",
    "param_rs = {\n",
    "    \"max_depth\": [3, None],\n",
    "    \"max_features\": [randint(1, 9)],\n",
    "    \"min_samples_leaf\": [randint(1, 9)],\n",
    "    \"criterion\": [\"gini\", \"entropy\"]\n",
    "}\n",
    "dtc_rs = RandomizedSearchCV(dtc, param_rs, cv=5)\n",
    "dtc_rs.fit(X_train, y_train)\n",
    "print(dtc_rs.best_params_, dtc_rs.best_score_)\n",
    "\n",
    "#Tuning using grid search.\n",
    "param_gs = {\n",
    "    \"ccp_alpha\": [0.1, 0.01, 0.001],\n",
    "    \"max_depth\": [5, 6, 7, 8, 9],\n",
    "    \"criterion\": [\"gini\", \"entropy\"]\n",
    "}\n",
    "dtc_gs = GridSearchCV(estimator=dtc, param_grid=param_gs, cv=5, verbose=True)\n",
    "dtc_gs.fit(X_train, y_train)\n",
    "print(dtc_gs.best_params_, dtc_gs.best_score_)"
   ]
  }
 ],
 "metadata": {
  "kernelspec": {
   "display_name": "Python 3.9.10 64-bit",
   "language": "python",
   "name": "python3"
  },
  "language_info": {
   "codemirror_mode": {
    "name": "ipython",
    "version": 3
   },
   "file_extension": ".py",
   "mimetype": "text/x-python",
   "name": "python",
   "nbconvert_exporter": "python",
   "pygments_lexer": "ipython3",
   "version": "3.9.10"
  },
  "orig_nbformat": 4,
  "vscode": {
   "interpreter": {
    "hash": "7d838d13ab43e23b328ffb06354afebe4d7e58bda29815f14625efb2f2dd91ef"
   }
  }
 },
 "nbformat": 4,
 "nbformat_minor": 2
}
